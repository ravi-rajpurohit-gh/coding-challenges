{
 "cells": [
  {
   "cell_type": "markdown",
   "metadata": {
    "id": "lr9EWhduXoV5"
   },
   "source": [
    "# MissionWired Data Engineer exercise\n",
    "## Problem Statement\n",
    "The task involves processing a simulated CRM dataset to produce two output files:\n",
    "1. A `people` file with specific attributes.\n",
    "2. An `acquisition_facts` file that aggregates statistics about when people in the dataset were acquired.\n",
    "\n",
    "The dataset is provided through three public AWS S3 CSV files:\n",
    "- Constituent Information\n",
    "- Constituent Email Addresses\n",
    "- Constituent Subscription Status\n",
    "\n",
    "The objective is to merge these datasets, clean and transform the data as needed, and produce the required output files.\n",
    "\n",
    "## Assumptions -\n",
    "Following are the assumptions before completing the tasks\n",
    "- Code column in people file comes from Source column in the constituent information file\n",
    "- Person creation and person updated datetime come from create_dt and modified_dt from the constituent information file\n",
    "- Rows where email is missing, but subscribed column is True, are also considered for aggregate\n"
   ]
  },
  {
   "cell_type": "code",
   "execution_count": 1,
   "metadata": {
    "colab": {
     "base_uri": "https://localhost:8080/"
    },
    "id": "jnbAggWCb_yj",
    "outputId": "1aaac330-7f4e-43b0-c49b-36b41ae2f108"
   },
   "outputs": [
    {
     "name": "stdout",
     "output_type": "stream",
     "text": [
      "Requirement already satisfied: pandas in /Users/ravirajpurohit/opt/anaconda3/lib/python3.9/site-packages (1.4.2)\n",
      "Requirement already satisfied: python-dateutil>=2.8.1 in /Users/ravirajpurohit/opt/anaconda3/lib/python3.9/site-packages (from pandas) (2.8.2)\n",
      "Requirement already satisfied: pytz>=2020.1 in /Users/ravirajpurohit/opt/anaconda3/lib/python3.9/site-packages (from pandas) (2021.3)\n",
      "Requirement already satisfied: numpy>=1.18.5 in /Users/ravirajpurohit/opt/anaconda3/lib/python3.9/site-packages (from pandas) (1.22.4)\n",
      "Requirement already satisfied: six>=1.5 in /Users/ravirajpurohit/opt/anaconda3/lib/python3.9/site-packages (from python-dateutil>=2.8.1->pandas) (1.16.0)\n",
      "Requirement already satisfied: numpy in /Users/ravirajpurohit/opt/anaconda3/lib/python3.9/site-packages (1.22.4)\n"
     ]
    }
   ],
   "source": [
    "## install pandas and numpy\n",
    "\n",
    "!pip install pandas\n",
    "!pip install numpy\n"
   ]
  },
  {
   "cell_type": "code",
   "execution_count": 2,
   "metadata": {
    "id": "6wLF85zGFQyU"
   },
   "outputs": [],
   "source": [
    "import pandas as pd\n",
    "import numpy as np\n",
    "\n",
    "pd.set_option('display.max_columns', None)"
   ]
  },
  {
   "cell_type": "markdown",
   "metadata": {
    "id": "4dXaoCoZlcqk"
   },
   "source": [
    "## Dataset Loading\n",
    "\n",
    "In this section, we load the datasets from the provided URLs. We selectively read the necessary columns to optimize memory usage and processing time."
   ]
  },
  {
   "cell_type": "code",
   "execution_count": 3,
   "metadata": {
    "id": "sqHBgiPQMX40"
   },
   "outputs": [],
   "source": [
    "# Load the constituent information dataset\n",
    "url = \"https://als-hiring.s3.amazonaws.com/fake_data/2020-07-01_17%3A11%3A00/cons.csv\"\n",
    "cols = ['cons_id', 'source', 'create_dt', 'modified_dt']\n",
    "cons_info = pd.read_csv(url, usecols=cols)"
   ]
  },
  {
   "cell_type": "code",
   "execution_count": 4,
   "metadata": {
    "id": "KsOJRKrcNho1"
   },
   "outputs": [],
   "source": [
    "# Load the constituent email addresses dataset\n",
    "url = \"https://als-hiring.s3.amazonaws.com/fake_data/2020-07-01_17%3A11%3A00/cons_email.csv\"\n",
    "cols = ['cons_id', 'cons_email_id', 'is_primary', 'email']\n",
    "cons_email = pd.read_csv(url, usecols=cols)\n",
    "\n",
    "# Filter to only include primary emails\n",
    "cons_email = cons_email[cons_email.is_primary == 1]"
   ]
  },
  {
   "cell_type": "code",
   "execution_count": 5,
   "metadata": {
    "id": "DKAc5v6ZNuYL"
   },
   "outputs": [],
   "source": [
    "# Load the constituent subscription status dataset\n",
    "url = \"https://als-hiring.s3.amazonaws.com/fake_data/2020-07-01_17%3A11%3A00/cons_email_chapter_subscription.csv\"\n",
    "cols = ['cons_email_id', 'chapter_id', 'isunsub']\n",
    "cons_subs = pd.read_csv(url, usecols=cols)\n",
    "\n",
    "# Filter for chapter_id = 1\n",
    "cons_subs = cons_subs[cons_subs.chapter_id == 1]"
   ]
  },
  {
   "cell_type": "markdown",
   "metadata": {
    "id": "4jbSBoE2mEJr"
   },
   "source": [
    "### Lets observe the shape and column information for each dataset"
   ]
  },
  {
   "cell_type": "code",
   "execution_count": 6,
   "metadata": {
    "colab": {
     "base_uri": "https://localhost:8080/",
     "height": 397
    },
    "id": "XUMxbWL2OLdH",
    "outputId": "8fa6fca2-89eb-48c5-8830-f6e31b8f31d3"
   },
   "outputs": [
    {
     "name": "stdout",
     "output_type": "stream",
     "text": [
      "(700000, 4)\n",
      "Index(['cons_id', 'source', 'create_dt', 'modified_dt'], dtype='object')\n"
     ]
    },
    {
     "data": {
      "text/html": [
       "<div>\n",
       "<style scoped>\n",
       "    .dataframe tbody tr th:only-of-type {\n",
       "        vertical-align: middle;\n",
       "    }\n",
       "\n",
       "    .dataframe tbody tr th {\n",
       "        vertical-align: top;\n",
       "    }\n",
       "\n",
       "    .dataframe thead th {\n",
       "        text-align: right;\n",
       "    }\n",
       "</style>\n",
       "<table border=\"1\" class=\"dataframe\">\n",
       "  <thead>\n",
       "    <tr style=\"text-align: right;\">\n",
       "      <th></th>\n",
       "      <th>cons_id</th>\n",
       "      <th>source</th>\n",
       "      <th>create_dt</th>\n",
       "      <th>modified_dt</th>\n",
       "    </tr>\n",
       "  </thead>\n",
       "  <tbody>\n",
       "    <tr>\n",
       "      <th>0</th>\n",
       "      <td>1</td>\n",
       "      <td>google</td>\n",
       "      <td>Fri, 1983-08-26 06:02:03</td>\n",
       "      <td>Sun, 2015-12-27 09:28:02</td>\n",
       "    </tr>\n",
       "    <tr>\n",
       "      <th>1</th>\n",
       "      <td>2</td>\n",
       "      <td>facebook</td>\n",
       "      <td>Mon, 1979-03-05 21:08:54</td>\n",
       "      <td>Tue, 1989-06-20 13:28:57</td>\n",
       "    </tr>\n",
       "    <tr>\n",
       "      <th>2</th>\n",
       "      <td>3</td>\n",
       "      <td>NaN</td>\n",
       "      <td>Fri, 2008-08-22 19:20:28</td>\n",
       "      <td>Fri, 2020-06-05 18:13:57</td>\n",
       "    </tr>\n",
       "    <tr>\n",
       "      <th>3</th>\n",
       "      <td>4</td>\n",
       "      <td>google</td>\n",
       "      <td>Sun, 1984-04-29 11:18:18</td>\n",
       "      <td>Tue, 2012-01-31 07:26:35</td>\n",
       "    </tr>\n",
       "    <tr>\n",
       "      <th>4</th>\n",
       "      <td>5</td>\n",
       "      <td>NaN</td>\n",
       "      <td>Thu, 2007-07-19 18:28:09</td>\n",
       "      <td>Tue, 1971-04-27 06:53:53</td>\n",
       "    </tr>\n",
       "    <tr>\n",
       "      <th>5</th>\n",
       "      <td>6</td>\n",
       "      <td>google</td>\n",
       "      <td>Sat, 2014-02-15 22:54:27</td>\n",
       "      <td>Fri, 1999-11-12 06:09:25</td>\n",
       "    </tr>\n",
       "    <tr>\n",
       "      <th>6</th>\n",
       "      <td>7</td>\n",
       "      <td>NaN</td>\n",
       "      <td>Thu, 1979-03-01 16:12:55</td>\n",
       "      <td>Wed, 2019-03-13 02:52:10</td>\n",
       "    </tr>\n",
       "    <tr>\n",
       "      <th>7</th>\n",
       "      <td>8</td>\n",
       "      <td>twitter</td>\n",
       "      <td>Tue, 2002-07-30 22:28:38</td>\n",
       "      <td>Sat, 1983-07-16 18:30:07</td>\n",
       "    </tr>\n",
       "    <tr>\n",
       "      <th>8</th>\n",
       "      <td>9</td>\n",
       "      <td>twitter</td>\n",
       "      <td>Thu, 2019-08-29 14:50:24</td>\n",
       "      <td>Sun, 2009-12-20 14:50:14</td>\n",
       "    </tr>\n",
       "    <tr>\n",
       "      <th>9</th>\n",
       "      <td>10</td>\n",
       "      <td>twitter</td>\n",
       "      <td>Tue, 1987-02-17 11:22:04</td>\n",
       "      <td>Sat, 2016-03-19 17:33:38</td>\n",
       "    </tr>\n",
       "  </tbody>\n",
       "</table>\n",
       "</div>"
      ],
      "text/plain": [
       "   cons_id    source                 create_dt               modified_dt\n",
       "0        1    google  Fri, 1983-08-26 06:02:03  Sun, 2015-12-27 09:28:02\n",
       "1        2  facebook  Mon, 1979-03-05 21:08:54  Tue, 1989-06-20 13:28:57\n",
       "2        3       NaN  Fri, 2008-08-22 19:20:28  Fri, 2020-06-05 18:13:57\n",
       "3        4    google  Sun, 1984-04-29 11:18:18  Tue, 2012-01-31 07:26:35\n",
       "4        5       NaN  Thu, 2007-07-19 18:28:09  Tue, 1971-04-27 06:53:53\n",
       "5        6    google  Sat, 2014-02-15 22:54:27  Fri, 1999-11-12 06:09:25\n",
       "6        7       NaN  Thu, 1979-03-01 16:12:55  Wed, 2019-03-13 02:52:10\n",
       "7        8   twitter  Tue, 2002-07-30 22:28:38  Sat, 1983-07-16 18:30:07\n",
       "8        9   twitter  Thu, 2019-08-29 14:50:24  Sun, 2009-12-20 14:50:14\n",
       "9       10   twitter  Tue, 1987-02-17 11:22:04  Sat, 2016-03-19 17:33:38"
      ]
     },
     "execution_count": 6,
     "metadata": {},
     "output_type": "execute_result"
    }
   ],
   "source": [
    "print(cons_info.shape)\n",
    "print(cons_info.columns)\n",
    "cons_info.head(10)"
   ]
  },
  {
   "cell_type": "code",
   "execution_count": 7,
   "metadata": {
    "colab": {
     "base_uri": "https://localhost:8080/",
     "height": 241
    },
    "id": "CbljM89ZOLRe",
    "outputId": "9c595921-42aa-40db-9332-8879c2c77446"
   },
   "outputs": [
    {
     "name": "stdout",
     "output_type": "stream",
     "text": [
      "(605639, 4)\n",
      "Index(['cons_email_id', 'cons_id', 'is_primary', 'email'], dtype='object')\n"
     ]
    },
    {
     "data": {
      "text/html": [
       "<div>\n",
       "<style scoped>\n",
       "    .dataframe tbody tr th:only-of-type {\n",
       "        vertical-align: middle;\n",
       "    }\n",
       "\n",
       "    .dataframe tbody tr th {\n",
       "        vertical-align: top;\n",
       "    }\n",
       "\n",
       "    .dataframe thead th {\n",
       "        text-align: right;\n",
       "    }\n",
       "</style>\n",
       "<table border=\"1\" class=\"dataframe\">\n",
       "  <thead>\n",
       "    <tr style=\"text-align: right;\">\n",
       "      <th></th>\n",
       "      <th>cons_email_id</th>\n",
       "      <th>cons_id</th>\n",
       "      <th>is_primary</th>\n",
       "      <th>email</th>\n",
       "    </tr>\n",
       "  </thead>\n",
       "  <tbody>\n",
       "    <tr>\n",
       "      <th>0</th>\n",
       "      <td>1</td>\n",
       "      <td>548198</td>\n",
       "      <td>1</td>\n",
       "      <td>xmartinez@vincent.com</td>\n",
       "    </tr>\n",
       "    <tr>\n",
       "      <th>1</th>\n",
       "      <td>2</td>\n",
       "      <td>491137</td>\n",
       "      <td>1</td>\n",
       "      <td>hmiller@haynes.biz</td>\n",
       "    </tr>\n",
       "    <tr>\n",
       "      <th>2</th>\n",
       "      <td>3</td>\n",
       "      <td>413429</td>\n",
       "      <td>1</td>\n",
       "      <td>aaron64@yahoo.com</td>\n",
       "    </tr>\n",
       "    <tr>\n",
       "      <th>3</th>\n",
       "      <td>4</td>\n",
       "      <td>347346</td>\n",
       "      <td>1</td>\n",
       "      <td>wyattvincent@hotmail.com</td>\n",
       "    </tr>\n",
       "    <tr>\n",
       "      <th>4</th>\n",
       "      <td>5</td>\n",
       "      <td>443000</td>\n",
       "      <td>1</td>\n",
       "      <td>tspencer@hotmail.com</td>\n",
       "    </tr>\n",
       "  </tbody>\n",
       "</table>\n",
       "</div>"
      ],
      "text/plain": [
       "   cons_email_id  cons_id  is_primary                     email\n",
       "0              1   548198           1     xmartinez@vincent.com\n",
       "1              2   491137           1        hmiller@haynes.biz\n",
       "2              3   413429           1         aaron64@yahoo.com\n",
       "3              4   347346           1  wyattvincent@hotmail.com\n",
       "4              5   443000           1      tspencer@hotmail.com"
      ]
     },
     "execution_count": 7,
     "metadata": {},
     "output_type": "execute_result"
    }
   ],
   "source": [
    "print(cons_email.shape)\n",
    "print(cons_email.columns)\n",
    "cons_email.head()"
   ]
  },
  {
   "cell_type": "code",
   "execution_count": 8,
   "metadata": {
    "colab": {
     "base_uri": "https://localhost:8080/",
     "height": 241
    },
    "id": "YRoCrUoCOYZ6",
    "outputId": "07ef4976-c0ba-4755-fce3-e45f7c8bccf7"
   },
   "outputs": [
    {
     "name": "stdout",
     "output_type": "stream",
     "text": [
      "(275484, 3)\n",
      "Index(['cons_email_id', 'chapter_id', 'isunsub'], dtype='object')\n"
     ]
    },
    {
     "data": {
      "text/html": [
       "<div>\n",
       "<style scoped>\n",
       "    .dataframe tbody tr th:only-of-type {\n",
       "        vertical-align: middle;\n",
       "    }\n",
       "\n",
       "    .dataframe tbody tr th {\n",
       "        vertical-align: top;\n",
       "    }\n",
       "\n",
       "    .dataframe thead th {\n",
       "        text-align: right;\n",
       "    }\n",
       "</style>\n",
       "<table border=\"1\" class=\"dataframe\">\n",
       "  <thead>\n",
       "    <tr style=\"text-align: right;\">\n",
       "      <th></th>\n",
       "      <th>cons_email_id</th>\n",
       "      <th>chapter_id</th>\n",
       "      <th>isunsub</th>\n",
       "    </tr>\n",
       "  </thead>\n",
       "  <tbody>\n",
       "    <tr>\n",
       "      <th>0</th>\n",
       "      <td>332188</td>\n",
       "      <td>1</td>\n",
       "      <td>1</td>\n",
       "    </tr>\n",
       "    <tr>\n",
       "      <th>1</th>\n",
       "      <td>536526</td>\n",
       "      <td>1</td>\n",
       "      <td>1</td>\n",
       "    </tr>\n",
       "    <tr>\n",
       "      <th>2</th>\n",
       "      <td>134711</td>\n",
       "      <td>1</td>\n",
       "      <td>1</td>\n",
       "    </tr>\n",
       "    <tr>\n",
       "      <th>3</th>\n",
       "      <td>660345</td>\n",
       "      <td>1</td>\n",
       "      <td>1</td>\n",
       "    </tr>\n",
       "    <tr>\n",
       "      <th>4</th>\n",
       "      <td>184268</td>\n",
       "      <td>1</td>\n",
       "      <td>1</td>\n",
       "    </tr>\n",
       "  </tbody>\n",
       "</table>\n",
       "</div>"
      ],
      "text/plain": [
       "   cons_email_id  chapter_id  isunsub\n",
       "0         332188           1        1\n",
       "1         536526           1        1\n",
       "2         134711           1        1\n",
       "3         660345           1        1\n",
       "4         184268           1        1"
      ]
     },
     "execution_count": 8,
     "metadata": {},
     "output_type": "execute_result"
    }
   ],
   "source": [
    "print(cons_subs.shape)\n",
    "print(cons_subs.columns)\n",
    "cons_subs.head()"
   ]
  },
  {
   "cell_type": "markdown",
   "metadata": {
    "id": "L0mw0ukr9EkD"
   },
   "source": [
    "# ---------- TASK 1 ----------"
   ]
  },
  {
   "cell_type": "markdown",
   "metadata": {
    "id": "547RaqER2lDd"
   },
   "source": [
    "## Data Merging and Cleaning\n",
    "\n",
    "In this section, we merge the datasets based on common identifiers (`cons_id` and `cons_email_id`) -\n",
    "- To _combine source_, _create_dt_, and _modified_dt_ from cons_info dataframe with _email_ from cons_email dataframe\n",
    "- Let's implement the _left join_ to ensure getting all the rows with _create_dt_ i.e. person creation time concerned, from the cons_info dataframe\n",
    "- After this, lets implement _left join_ with the subscription cons_subs dataframe for the same reason\n",
    "\n",
    "The merging is done in two stages to produce the final dataset for analysis\n"
   ]
  },
  {
   "cell_type": "code",
   "execution_count": 9,
   "metadata": {
    "colab": {
     "base_uri": "https://localhost:8080/",
     "height": 275
    },
    "id": "5TpiOB-jOLDs",
    "outputId": "52246a0e-e0c0-495d-ceed-2341e12a975d"
   },
   "outputs": [
    {
     "name": "stdout",
     "output_type": "stream",
     "text": [
      "(700000, 9)\n",
      "Index(['cons_id', 'source', 'create_dt', 'modified_dt', 'cons_email_id',\n",
      "       'is_primary', 'email', 'chapter_id', 'isunsub'],\n",
      "      dtype='object')\n"
     ]
    },
    {
     "data": {
      "text/html": [
       "<div>\n",
       "<style scoped>\n",
       "    .dataframe tbody tr th:only-of-type {\n",
       "        vertical-align: middle;\n",
       "    }\n",
       "\n",
       "    .dataframe tbody tr th {\n",
       "        vertical-align: top;\n",
       "    }\n",
       "\n",
       "    .dataframe thead th {\n",
       "        text-align: right;\n",
       "    }\n",
       "</style>\n",
       "<table border=\"1\" class=\"dataframe\">\n",
       "  <thead>\n",
       "    <tr style=\"text-align: right;\">\n",
       "      <th></th>\n",
       "      <th>cons_id</th>\n",
       "      <th>source</th>\n",
       "      <th>create_dt</th>\n",
       "      <th>modified_dt</th>\n",
       "      <th>cons_email_id</th>\n",
       "      <th>is_primary</th>\n",
       "      <th>email</th>\n",
       "      <th>chapter_id</th>\n",
       "      <th>isunsub</th>\n",
       "    </tr>\n",
       "  </thead>\n",
       "  <tbody>\n",
       "    <tr>\n",
       "      <th>0</th>\n",
       "      <td>1</td>\n",
       "      <td>google</td>\n",
       "      <td>Fri, 1983-08-26 06:02:03</td>\n",
       "      <td>Sun, 2015-12-27 09:28:02</td>\n",
       "      <td>546912.0</td>\n",
       "      <td>1.0</td>\n",
       "      <td>daniel72@hudson.com</td>\n",
       "      <td>NaN</td>\n",
       "      <td>NaN</td>\n",
       "    </tr>\n",
       "    <tr>\n",
       "      <th>1</th>\n",
       "      <td>2</td>\n",
       "      <td>facebook</td>\n",
       "      <td>Mon, 1979-03-05 21:08:54</td>\n",
       "      <td>Tue, 1989-06-20 13:28:57</td>\n",
       "      <td>415587.0</td>\n",
       "      <td>1.0</td>\n",
       "      <td>caustin@spears-carson.com</td>\n",
       "      <td>1.0</td>\n",
       "      <td>1.0</td>\n",
       "    </tr>\n",
       "    <tr>\n",
       "      <th>2</th>\n",
       "      <td>3</td>\n",
       "      <td>NaN</td>\n",
       "      <td>Fri, 2008-08-22 19:20:28</td>\n",
       "      <td>Fri, 2020-06-05 18:13:57</td>\n",
       "      <td>81594.0</td>\n",
       "      <td>1.0</td>\n",
       "      <td>klewis@ford.biz</td>\n",
       "      <td>1.0</td>\n",
       "      <td>1.0</td>\n",
       "    </tr>\n",
       "    <tr>\n",
       "      <th>3</th>\n",
       "      <td>4</td>\n",
       "      <td>google</td>\n",
       "      <td>Sun, 1984-04-29 11:18:18</td>\n",
       "      <td>Tue, 2012-01-31 07:26:35</td>\n",
       "      <td>NaN</td>\n",
       "      <td>NaN</td>\n",
       "      <td>NaN</td>\n",
       "      <td>NaN</td>\n",
       "      <td>NaN</td>\n",
       "    </tr>\n",
       "    <tr>\n",
       "      <th>4</th>\n",
       "      <td>5</td>\n",
       "      <td>NaN</td>\n",
       "      <td>Thu, 2007-07-19 18:28:09</td>\n",
       "      <td>Tue, 1971-04-27 06:53:53</td>\n",
       "      <td>182741.0</td>\n",
       "      <td>1.0</td>\n",
       "      <td>stephenhamilton@gmail.com</td>\n",
       "      <td>1.0</td>\n",
       "      <td>1.0</td>\n",
       "    </tr>\n",
       "  </tbody>\n",
       "</table>\n",
       "</div>"
      ],
      "text/plain": [
       "   cons_id    source                 create_dt               modified_dt  \\\n",
       "0        1    google  Fri, 1983-08-26 06:02:03  Sun, 2015-12-27 09:28:02   \n",
       "1        2  facebook  Mon, 1979-03-05 21:08:54  Tue, 1989-06-20 13:28:57   \n",
       "2        3       NaN  Fri, 2008-08-22 19:20:28  Fri, 2020-06-05 18:13:57   \n",
       "3        4    google  Sun, 1984-04-29 11:18:18  Tue, 2012-01-31 07:26:35   \n",
       "4        5       NaN  Thu, 2007-07-19 18:28:09  Tue, 1971-04-27 06:53:53   \n",
       "\n",
       "   cons_email_id  is_primary                      email  chapter_id  isunsub  \n",
       "0       546912.0         1.0        daniel72@hudson.com         NaN      NaN  \n",
       "1       415587.0         1.0  caustin@spears-carson.com         1.0      1.0  \n",
       "2        81594.0         1.0            klewis@ford.biz         1.0      1.0  \n",
       "3            NaN         NaN                        NaN         NaN      NaN  \n",
       "4       182741.0         1.0  stephenhamilton@gmail.com         1.0      1.0  "
      ]
     },
     "execution_count": 9,
     "metadata": {},
     "output_type": "execute_result"
    }
   ],
   "source": [
    "# Merge cons_info and cons_email on 'cons_id'\n",
    "merge1 = pd.merge(cons_info, cons_email, on='cons_id', how='left')\n",
    "\n",
    "# Merge the result with cons_subs on 'cons_email_id'\n",
    "result = pd.merge(merge1, cons_subs, on='cons_email_id', how='left')\n",
    "\n",
    "# Display the shape and column information of the merged dataset\n",
    "print(result.shape)\n",
    "print(result.columns)\n",
    "result.head()"
   ]
  },
  {
   "cell_type": "code",
   "execution_count": 10,
   "metadata": {
    "colab": {
     "base_uri": "https://localhost:8080/",
     "height": 223
    },
    "id": "J7A7kxOTOKxm",
    "outputId": "f0fc1ea4-0de5-46ee-965a-b79629a32643"
   },
   "outputs": [
    {
     "name": "stdout",
     "output_type": "stream",
     "text": [
      "(700000, 5)\n"
     ]
    },
    {
     "data": {
      "text/html": [
       "<div>\n",
       "<style scoped>\n",
       "    .dataframe tbody tr th:only-of-type {\n",
       "        vertical-align: middle;\n",
       "    }\n",
       "\n",
       "    .dataframe tbody tr th {\n",
       "        vertical-align: top;\n",
       "    }\n",
       "\n",
       "    .dataframe thead th {\n",
       "        text-align: right;\n",
       "    }\n",
       "</style>\n",
       "<table border=\"1\" class=\"dataframe\">\n",
       "  <thead>\n",
       "    <tr style=\"text-align: right;\">\n",
       "      <th></th>\n",
       "      <th>email</th>\n",
       "      <th>code</th>\n",
       "      <th>is_unsub</th>\n",
       "      <th>created_dt</th>\n",
       "      <th>updated_dt</th>\n",
       "    </tr>\n",
       "  </thead>\n",
       "  <tbody>\n",
       "    <tr>\n",
       "      <th>0</th>\n",
       "      <td>daniel72@hudson.com</td>\n",
       "      <td>google</td>\n",
       "      <td>NaN</td>\n",
       "      <td>Fri, 1983-08-26 06:02:03</td>\n",
       "      <td>Sun, 2015-12-27 09:28:02</td>\n",
       "    </tr>\n",
       "    <tr>\n",
       "      <th>1</th>\n",
       "      <td>caustin@spears-carson.com</td>\n",
       "      <td>facebook</td>\n",
       "      <td>1.0</td>\n",
       "      <td>Mon, 1979-03-05 21:08:54</td>\n",
       "      <td>Tue, 1989-06-20 13:28:57</td>\n",
       "    </tr>\n",
       "    <tr>\n",
       "      <th>2</th>\n",
       "      <td>klewis@ford.biz</td>\n",
       "      <td>NaN</td>\n",
       "      <td>1.0</td>\n",
       "      <td>Fri, 2008-08-22 19:20:28</td>\n",
       "      <td>Fri, 2020-06-05 18:13:57</td>\n",
       "    </tr>\n",
       "    <tr>\n",
       "      <th>3</th>\n",
       "      <td>NaN</td>\n",
       "      <td>google</td>\n",
       "      <td>NaN</td>\n",
       "      <td>Sun, 1984-04-29 11:18:18</td>\n",
       "      <td>Tue, 2012-01-31 07:26:35</td>\n",
       "    </tr>\n",
       "    <tr>\n",
       "      <th>4</th>\n",
       "      <td>stephenhamilton@gmail.com</td>\n",
       "      <td>NaN</td>\n",
       "      <td>1.0</td>\n",
       "      <td>Thu, 2007-07-19 18:28:09</td>\n",
       "      <td>Tue, 1971-04-27 06:53:53</td>\n",
       "    </tr>\n",
       "  </tbody>\n",
       "</table>\n",
       "</div>"
      ],
      "text/plain": [
       "                       email      code  is_unsub                created_dt  \\\n",
       "0        daniel72@hudson.com    google       NaN  Fri, 1983-08-26 06:02:03   \n",
       "1  caustin@spears-carson.com  facebook       1.0  Mon, 1979-03-05 21:08:54   \n",
       "2            klewis@ford.biz       NaN       1.0  Fri, 2008-08-22 19:20:28   \n",
       "3                        NaN    google       NaN  Sun, 1984-04-29 11:18:18   \n",
       "4  stephenhamilton@gmail.com       NaN       1.0  Thu, 2007-07-19 18:28:09   \n",
       "\n",
       "                 updated_dt  \n",
       "0  Sun, 2015-12-27 09:28:02  \n",
       "1  Tue, 1989-06-20 13:28:57  \n",
       "2  Fri, 2020-06-05 18:13:57  \n",
       "3  Tue, 2012-01-31 07:26:35  \n",
       "4  Tue, 1971-04-27 06:53:53  "
      ]
     },
     "execution_count": 10,
     "metadata": {},
     "output_type": "execute_result"
    }
   ],
   "source": [
    "# Select the relevant columns for the final 'people' file\n",
    "df = result[['email','source','isunsub','create_dt','modified_dt']]\n",
    "\n",
    "# rename column names from source to code, isunsub to is_unsub, create_dt_x to created_dt, modified_dt_x to updated_dt\n",
    "df = df.rename(columns={'source': 'code', 'isunsub': 'is_unsub', 'create_dt': 'created_dt', 'modified_dt': 'updated_dt'})\n",
    "\n",
    "# Display the shape and first few rows of the final 'people' file\n",
    "print(df.shape)\n",
    "df.head()"
   ]
  },
  {
   "cell_type": "markdown",
   "metadata": {
    "id": "5PapktsR8lSs"
   },
   "source": [
    "### Convert column formats according to the required schema, and save as a CSV file"
   ]
  },
  {
   "cell_type": "code",
   "execution_count": 11,
   "metadata": {
    "id": "aZ1D8x4Z3gHN"
   },
   "outputs": [],
   "source": [
    "# convert datetime columns to pandas datetime schema\n",
    "df['created_dt'] = pd.to_datetime(df['created_dt'])\n",
    "df['updated_dt'] = pd.to_datetime(df['updated_dt'])\n",
    "\n",
    "# convert is_unsub column to boolean, if NaN found, assume subscribed i.e. False\n",
    "df['is_unsub'] = df['is_unsub'].fillna(0).astype(bool)"
   ]
  },
  {
   "cell_type": "code",
   "execution_count": 12,
   "metadata": {
    "id": "IgEDIO1p8J-7"
   },
   "outputs": [],
   "source": [
    "# save df as a CSV with a header line to the working directory\n",
    "df.to_csv('people.csv', index=False)"
   ]
  },
  {
   "cell_type": "markdown",
   "metadata": {
    "id": "7EnpFNsF9NaN"
   },
   "source": [
    "# ---------- TASK 2 ----------"
   ]
  },
  {
   "cell_type": "markdown",
   "metadata": {
    "id": "AS5LGfN-9XcJ"
   },
   "source": [
    "Using the people.csv file, let's aggregate stats about when people in the dataset were acquired."
   ]
  },
  {
   "cell_type": "code",
   "execution_count": 13,
   "metadata": {
    "colab": {
     "base_uri": "https://localhost:8080/",
     "height": 414
    },
    "id": "PcrWzvQ79M5f",
    "outputId": "d595cfcc-9024-48fe-ddac-4802df853e86"
   },
   "outputs": [
    {
     "name": "stdout",
     "output_type": "stream",
     "text": [
      "700000\n",
      "<class 'pandas.core.frame.DataFrame'>\n",
      "RangeIndex: 18445 entries, 0 to 18444\n",
      "Data columns (total 2 columns):\n",
      " #   Column            Non-Null Count  Dtype \n",
      "---  ------            --------------  ----- \n",
      " 0   acquisition_date  18445 non-null  object\n",
      " 1   acquisitions      18445 non-null  int64 \n",
      "dtypes: int64(1), object(1)\n",
      "memory usage: 288.3+ KB\n",
      "None\n",
      "(18445, 2)\n"
     ]
    },
    {
     "data": {
      "text/html": [
       "<div>\n",
       "<style scoped>\n",
       "    .dataframe tbody tr th:only-of-type {\n",
       "        vertical-align: middle;\n",
       "    }\n",
       "\n",
       "    .dataframe tbody tr th {\n",
       "        vertical-align: top;\n",
       "    }\n",
       "\n",
       "    .dataframe thead th {\n",
       "        text-align: right;\n",
       "    }\n",
       "</style>\n",
       "<table border=\"1\" class=\"dataframe\">\n",
       "  <thead>\n",
       "    <tr style=\"text-align: right;\">\n",
       "      <th></th>\n",
       "      <th>acquisition_date</th>\n",
       "      <th>acquisitions</th>\n",
       "    </tr>\n",
       "  </thead>\n",
       "  <tbody>\n",
       "    <tr>\n",
       "      <th>0</th>\n",
       "      <td>1970-01-01</td>\n",
       "      <td>34</td>\n",
       "    </tr>\n",
       "    <tr>\n",
       "      <th>1</th>\n",
       "      <td>1970-01-02</td>\n",
       "      <td>38</td>\n",
       "    </tr>\n",
       "    <tr>\n",
       "      <th>2</th>\n",
       "      <td>1970-01-03</td>\n",
       "      <td>32</td>\n",
       "    </tr>\n",
       "    <tr>\n",
       "      <th>3</th>\n",
       "      <td>1970-01-04</td>\n",
       "      <td>39</td>\n",
       "    </tr>\n",
       "    <tr>\n",
       "      <th>4</th>\n",
       "      <td>1970-01-05</td>\n",
       "      <td>44</td>\n",
       "    </tr>\n",
       "  </tbody>\n",
       "</table>\n",
       "</div>"
      ],
      "text/plain": [
       "  acquisition_date  acquisitions\n",
       "0       1970-01-01            34\n",
       "1       1970-01-02            38\n",
       "2       1970-01-03            32\n",
       "3       1970-01-04            39\n",
       "4       1970-01-05            44"
      ]
     },
     "execution_count": 13,
     "metadata": {},
     "output_type": "execute_result"
    }
   ],
   "source": [
    "# read the people file\n",
    "people_df = pd.read_csv('people.csv')\n",
    "\n",
    "# Convert 'created_dt' to date type\n",
    "people_df['created_dt'] = pd.to_datetime(people_df['created_dt']).dt.date\n",
    "\n",
    "# Group by acquisition date and count the number of acquisitions\n",
    "acquisition_facts = people_df.groupby('created_dt', dropna=False)['is_unsub'].count().reset_index()\n",
    "\n",
    "# Rename the columns\n",
    "acquisition_facts.columns = ['acquisition_date', 'acquisitions']\n",
    "\n",
    "# sum of acquisitions match with the people dataset, ensuring no data loss\n",
    "print(acquisition_facts.acquisitions.sum())\n",
    "\n",
    "## print data_type of each column to match with required schema\n",
    "print(acquisition_facts.info())\n",
    "\n",
    "# Display the result\n",
    "print(acquisition_facts.shape)\n",
    "acquisition_facts.head()"
   ]
  },
  {
   "cell_type": "code",
   "execution_count": 14,
   "metadata": {
    "id": "fezDl5vJZDu_"
   },
   "outputs": [],
   "source": [
    "# save to CSV in the working directory\n",
    "acquisition_facts.to_csv('acquisition_facts.csv', index=False)"
   ]
  },
  {
   "cell_type": "markdown",
   "metadata": {
    "id": "pUp8nNqM_b62"
   },
   "source": [
    "## Visualization\n",
    "\n",
    "Lets visualize the data to observe the pattern of acquisitions. After data exploration -\n",
    "- Removing outlier data for improved visual\n",
    "- Limiting y axis between 13000 and 15000 to get a better visual\n",
    "\n",
    "Date Transformation -\n",
    "- The date fields in the dataset contain day-level information, which may not be necessary for this analysis. Therefore, we transform the data to retain only the year part, removing any specific time details.\n"
   ]
  },
  {
   "cell_type": "code",
   "execution_count": 15,
   "metadata": {
    "colab": {
     "base_uri": "https://localhost:8080/"
    },
    "id": "LZK4fzNkcTiS",
    "outputId": "00f10ccb-4cad-4721-b9dd-314e455e805b"
   },
   "outputs": [
    {
     "name": "stdout",
     "output_type": "stream",
     "text": [
      "Requirement already satisfied: matplotlib in /Users/ravirajpurohit/opt/anaconda3/lib/python3.9/site-packages (3.5.1)\r\n",
      "Requirement already satisfied: numpy>=1.17 in /Users/ravirajpurohit/opt/anaconda3/lib/python3.9/site-packages (from matplotlib) (1.22.4)\r\n",
      "Requirement already satisfied: fonttools>=4.22.0 in /Users/ravirajpurohit/opt/anaconda3/lib/python3.9/site-packages (from matplotlib) (4.25.0)\r\n",
      "Requirement already satisfied: kiwisolver>=1.0.1 in /Users/ravirajpurohit/opt/anaconda3/lib/python3.9/site-packages (from matplotlib) (1.3.2)\r\n",
      "Requirement already satisfied: packaging>=20.0 in /Users/ravirajpurohit/opt/anaconda3/lib/python3.9/site-packages (from matplotlib) (21.3)\r\n",
      "Requirement already satisfied: cycler>=0.10 in /Users/ravirajpurohit/opt/anaconda3/lib/python3.9/site-packages (from matplotlib) (0.11.0)\r\n",
      "Requirement already satisfied: pillow>=6.2.0 in /Users/ravirajpurohit/opt/anaconda3/lib/python3.9/site-packages (from matplotlib) (9.0.1)\r\n",
      "Requirement already satisfied: python-dateutil>=2.7 in /Users/ravirajpurohit/opt/anaconda3/lib/python3.9/site-packages (from matplotlib) (2.8.2)\r\n",
      "Requirement already satisfied: pyparsing>=2.2.1 in /Users/ravirajpurohit/opt/anaconda3/lib/python3.9/site-packages (from matplotlib) (3.0.4)\r\n",
      "Requirement already satisfied: six>=1.5 in /Users/ravirajpurohit/opt/anaconda3/lib/python3.9/site-packages (from python-dateutil>=2.7->matplotlib) (1.16.0)\r\n"
     ]
    }
   ],
   "source": [
    "## install matplotlib\n",
    "!pip install matplotlib"
   ]
  },
  {
   "cell_type": "code",
   "execution_count": 16,
   "metadata": {
    "id": "1iPeIkCA_5g9"
   },
   "outputs": [],
   "source": [
    "## import packages\n",
    "import matplotlib.pyplot as plt"
   ]
  },
  {
   "cell_type": "code",
   "execution_count": 17,
   "metadata": {
    "id": "iOv18f8jGd9Q"
   },
   "outputs": [],
   "source": [
    "# Extract year from acquisition_date\n",
    "acquisition_facts['acquisition_year'] = pd.to_datetime(acquisition_facts['acquisition_date']).dt.year\n",
    "\n",
    "# Group by acquisition year and sum the acquisitions\n",
    "yearly_acquisitions = acquisition_facts.groupby('acquisition_year')['acquisitions'].sum().reset_index()\n",
    "\n",
    "# Lets look at the interquartile range to remove outliers\n",
    "# Calculate quartiles\n",
    "q1 = yearly_acquisitions['acquisitions'].quantile(0.05)\n",
    "q3 = yearly_acquisitions['acquisitions'].quantile(0.95)\n",
    "iqr = q3 - q1\n",
    "lower_bound = q1 - 1.5 * iqr\n",
    "upper_bound = q3 + 1.5 * iqr\n",
    "\n",
    "# Filter outliers\n",
    "yearly_acquisitions_filtered = yearly_acquisitions[(yearly_acquisitions['acquisitions'] >= lower_bound) & (yearly_acquisitions['acquisitions'] <= upper_bound)]"
   ]
  },
  {
   "cell_type": "code",
   "execution_count": 18,
   "metadata": {
    "colab": {
     "base_uri": "https://localhost:8080/",
     "height": 564
    },
    "id": "LjgRiTkjARjc",
    "outputId": "88897f76-06dd-4853-9e09-90acf2c5ead3"
   },
   "outputs": [
    {
     "data": {
      "image/png": "[encoded data removed]",
      "text/plain": [
       "<Figure size 720x432 with 1 Axes>"
      ]
     },
     "metadata": {
      "needs_background": "light"
     },
     "output_type": "display_data"
    }
   ],
   "source": [
    "# Plot the trend\n",
    "plt.figure(figsize=(10, 6))\n",
    "plt.plot(yearly_acquisitions_filtered['acquisition_year'], yearly_acquisitions_filtered['acquisitions'])\n",
    "plt.xlabel('Acquisition Year')\n",
    "plt.ylabel('Number of Acquisitions')\n",
    "plt.title('Trend of Acquisitions Over Years (Outliers Removed)')\n",
    "plt.ylim(13000, 15000)  # Set y-axis limits for better visualization\n",
    "\n",
    "# Add quartile information\n",
    "plt.axhline(y=q1, color='r', linestyle='--', label='Q1')\n",
    "plt.axhline(y=q3, color='g', linestyle='--', label='Q3')\n",
    "\n",
    "plt.legend()\n",
    "plt.grid(True)\n",
    "plt.show()"
   ]
  },
  {
   "cell_type": "markdown",
   "metadata": {
    "id": "0T04-nBpAYK5"
   },
   "source": [
    "## Conclusion -\n",
    "The plotted graph shows us -\n",
    "- Number of acquisitions have been consistent\n",
    "- Ranging between <13750 , 14000> every year\n",
    "- Lower bound and Upper bound of yearly acquisitions are close, proving consistency"
   ]
  },
  {
   "cell_type": "code",
   "execution_count": null,
   "metadata": {
    "id": "Fc7LExCZBmwf"
   },
   "outputs": [],
   "source": []
  },
  {
   "cell_type": "code",
   "execution_count": null,
   "metadata": {
    "id": "yR1gk8EzBRQB"
   },
   "outputs": [],
   "source": []
  },
  {
   "cell_type": "markdown",
   "metadata": {
    "id": "FpNLe-jEBRsN"
   },
   "source": [
    "# Approach 2 - Using PySpark\n",
    "In this approach, let's utilize PySpark to perform the same operations as done with Pandas. PySpark is particularly beneficial when dealing with large datasets, as it allows distributed computing and can handle big data efficiently.\n",
    "\n",
    "Let's explore the same tasks using PySpark with the same assumptions.\n",
    "- Naming of variables and output files will be different, to avoid overwriting"
   ]
  },
  {
   "cell_type": "code",
   "execution_count": 19,
   "metadata": {
    "colab": {
     "base_uri": "https://localhost:8080/"
    },
    "id": "OEmxOhh6Zs8O",
    "outputId": "ee6b0e0a-7b33-4162-d12b-edee3ef49880"
   },
   "outputs": [
    {
     "name": "stdout",
     "output_type": "stream",
     "text": [
      "Requirement already satisfied: pyspark in /Users/ravirajpurohit/opt/anaconda3/lib/python3.9/site-packages (3.3.1)\n",
      "Requirement already satisfied: py4j==0.10.9.5 in /Users/ravirajpurohit/opt/anaconda3/lib/python3.9/site-packages (from pyspark) (0.10.9.5)\n"
     ]
    }
   ],
   "source": [
    "## install pyspark\n",
    "!pip install pyspark"
   ]
  },
  {
   "cell_type": "code",
   "execution_count": 20,
   "metadata": {
    "id": "sS3TqJRagvDs"
   },
   "outputs": [],
   "source": [
    "## import required packages\n",
    "from pyspark.sql import SparkSession\n",
    "from pyspark import SparkFiles\n",
    "from pyspark.sql.functions import col, substring, to_date, count, year\n",
    "\n",
    "from pyspark.sql.types import BooleanType, StringType, DateType"
   ]
  },
  {
   "cell_type": "code",
   "execution_count": 21,
   "metadata": {
    "id": "IOA4WuXUMYoL"
   },
   "outputs": [
    {
     "name": "stderr",
     "output_type": "stream",
     "text": [
      "Setting default log level to \"WARN\".\n",
      "To adjust logging level use sc.setLogLevel(newLevel). For SparkR, use setLogLevel(newLevel).\n"
     ]
    },
    {
     "name": "stdout",
     "output_type": "stream",
     "text": [
      "24/08/23 00:02:13 WARN NativeCodeLoader: Unable to load native-hadoop library for your platform... using builtin-java classes where applicable\n"
     ]
    },
    {
     "name": "stderr",
     "output_type": "stream",
     "text": [
      "                                                                                \r"
     ]
    }
   ],
   "source": [
    "# Initialize SparkSession\n",
    "spark = SparkSession.builder.appName(\"MissionWired\").getOrCreate()\n",
    "\n",
    "# Load the constituent information dataset; select only necessary columns\n",
    "\n",
    "url_2 = \"https://als-hiring.s3.amazonaws.com/fake_data/2020-07-01_17%3A11%3A00/cons.csv\"\n",
    "cols_2 = ['cons_id', 'source', 'create_dt', 'modified_dt']\n",
    "\n",
    "## add url file to spark context to read it locally\n",
    "spark.sparkContext.addFile(url_2)\n",
    "cons_info_2 = spark.read.csv(SparkFiles.get(url_2.split('/')[-1]), header=True, inferSchema=True).select(cols_2)\n",
    "\n",
    "# Load the constituent email addresses dataset\n",
    "url_2 = \"https://als-hiring.s3.amazonaws.com/fake_data/2020-07-01_17%3A11%3A00/cons_email.csv\"\n",
    "cols_2 = ['cons_id', 'cons_email_id', 'is_primary', 'email']\n",
    "\n",
    "spark.sparkContext.addFile(url_2)\n",
    "cons_email_2 = spark.read.csv(SparkFiles.get(url_2.split('/')[-1]), header=True, inferSchema=True).select(cols_2).filter(col(\"is_primary\") == 1)\n",
    "\n",
    "# Load the constituent subscription status dataset\n",
    "url_2 = \"https://als-hiring.s3.amazonaws.com/fake_data/2020-07-01_17%3A11%3A00/cons_email_chapter_subscription.csv\"\n",
    "cols_2 = ['cons_email_id', 'chapter_id', 'isunsub']\n",
    "\n",
    "spark.sparkContext.addFile(url_2)\n",
    "cons_subs_2 = spark.read.csv(SparkFiles.get(url_2.split('/')[-1]), header=True, inferSchema=True).select(cols_2).filter(col(\"chapter_id\") == 1)"
   ]
  },
  {
   "cell_type": "markdown",
   "metadata": {
    "id": "wZQ-OFKkCw9S"
   },
   "source": [
    "## ---------- TASK 1 ----------"
   ]
  },
  {
   "cell_type": "markdown",
   "metadata": {
    "id": "JP-OdesTX5Pc"
   },
   "source": [
    "### Merging Datasets on `cons_id` and `cons_email_id`\n",
    "In this step, merging the `cons_info` and `cons_email` datasets using the `cons_id` field. This operation is similar to a SQL `LEFT JOIN`. We then merge the resulting dataset with the `cons_subs` dataset on the `cons_email_id` field. The merging ensures that we consolidate all relevant data into a single DataFrame for further processing.\n"
   ]
  },
  {
   "cell_type": "code",
   "execution_count": 22,
   "metadata": {
    "id": "hDKiOunXCne9"
   },
   "outputs": [
    {
     "name": "stderr",
     "output_type": "stream",
     "text": [
      "                                                                                \r"
     ]
    }
   ],
   "source": [
    "# Merge cons_info and cons_email on 'cons_id'\n",
    "merge1_2 = cons_info_2.join(cons_email_2, \"cons_id\", \"left\")\n",
    "\n",
    "# Merge the result with cons_subs on 'cons_email_id'\n",
    "result_2 = merge1_2.join(cons_subs_2, \"cons_email_id\", \"left\")\n",
    "\n",
    "# Select the relevant columns for the final 'people' file\n",
    "people_df_2 = result_2.select(col(\"email\"), col(\"source\").alias(\"code\"),\n",
    "                         col(\"isunsub\").alias(\"is_unsub\"),\n",
    "                         col(\"create_dt\").alias(\"created_dt\"),\n",
    "                         col(\"modified_dt\").alias(\"updated_dt\"))\n",
    "\n",
    "# Fill missing 'is_unsub' values with False (assuming subscribed)\n",
    "people_df_2 = people_df_2.fillna(False, subset=[\"is_unsub\"])\n",
    "\n",
    "# Cast 'is_unsub' to BooleanType and fill nulls with False\n",
    "people_df_2 = people_df_2.withColumn(\"is_unsub\", col(\"is_unsub\").cast(BooleanType())) \\\n",
    "    .fillna(False, subset=[\"is_unsub\"])\n",
    "\n",
    "# Cast 'email' and 'code' to StringType\n",
    "people_df_2 = people_df_2.withColumn(\"email\", col(\"email\").cast(StringType())) \\\n",
    "    .withColumn(\"code\", col(\"code\").cast(StringType()))\n",
    "\n",
    "# Remove day information to convert to datetime\n",
    "people_df_2 = people_df_2.withColumn(\"created_dt\", to_date(substring(\"created_dt\", 6, 10), \"yyyy-MM-dd\")) \\\n",
    "    .withColumn(\"updated_dt\", to_date(substring(\"updated_dt\", 6, 10), \"yyyy-MM-dd\"))\n",
    "\n",
    "# Save 'people' DataFrame as a CSV file\n",
    "# people_df_2.write.csv(\"people_2.csv\", header=True, mode=\"overwrite\")\n",
    "\n",
    "## bypassing to pandas for now to save as one file; pyspark saves as partitioned files\n",
    "people_df_2.toPandas().to_csv('people_2.csv',index=False)"
   ]
  },
  {
   "cell_type": "markdown",
   "metadata": {
    "id": "jLDlulHQC3WQ"
   },
   "source": [
    "## ---------- TASK 2 ----------\n",
    "### Generating the `acquisition_facts_2` File\n",
    "\n",
    "In this section, we load the previously saved `people_2` DataFrame from the CSV file. We then process the `created_dt` column to ensure it is in the correct date format. The data is grouped by acquisition date to count the number of acquisitions per date. Finally, the resulting DataFrame is saved as `acquisition_facts_2.csv`.\n"
   ]
  },
  {
   "cell_type": "code",
   "execution_count": 23,
   "metadata": {
    "id": "LJAqJOTkCqcH"
   },
   "outputs": [
    {
     "name": "stderr",
     "output_type": "stream",
     "text": [
      "                                                                                \r"
     ]
    }
   ],
   "source": [
    "# Load the 'people' DataFrame from the CSV file\n",
    "people_df_2 = spark.read.csv(\"people_2.csv\", header=True, inferSchema=True)\n",
    "\n",
    "# Convert 'created_dt' to date type\n",
    "people_df_2 = people_df_2.withColumn(\"created_dt\", to_date(col(\"created_dt\")))\n",
    "\n",
    "# Group by acquisition date and count the number of acquisitions\n",
    "acquisition_facts_2 = people_df_2.groupBy(\"created_dt\").agg(count(\"*\").alias(\"acquisitions\")) \\\n",
    "    .withColumnRenamed(\"created_dt\", \"acquisition_date\") \\\n",
    "    .orderBy(\"acquisition_date\")\n",
    "\n",
    "# convert acquisitions column to int\n",
    "acquisition_facts_2 = acquisition_facts_2.withColumn(\"acquisitions\", col(\"acquisitions\").cast(\"int\"))\n",
    "\n",
    "# save the output as csv\n",
    "# acquisition_facts_2.write.csv(\"acquisition_facts_2.csv\", header=True, mode=\"overwrite\")\n",
    "\n",
    "## bypassing to pandas for now to save as one file; pyspark saves as partitioned files\n",
    "acquisition_facts_2.toPandas().to_csv('acquisition_facts_2.csv',index=False)"
   ]
  },
  {
   "cell_type": "markdown",
   "metadata": {
    "id": "w0Yt7O62ZFMY"
   },
   "source": [
    "### Assignment Summary\n",
    "\n",
    "This assignment was a rewarding and enjoyable process that allowed me to demonstrate my data engineering skills using both Pandas and PySpark. Working through the task of merging, transforming, and analyzing a simulated CRM dataset was not only a great way to apply my technical knowledge, but it also reinforced the importance of efficient data processing and documentation.\n",
    "\n",
    "\n",
    "In addition to the original requirements, I took the initiatives to  -\n",
    "- Utilize PySpark, aligning with the production standards mentioned, and showcasing my ability to work with big data tools.\n",
    "- Incorporated data visualization and analysis, providing insights into the dataset and highlighted potential trends.\n",
    "\n",
    "\n",
    "_I am excited for the next steps in the process and look forward to further opportunities to contribute my skills and knowledge._\n"
   ]
  }
 ],
 "metadata": {
  "colab": {
   "provenance": []
  },
  "kernelspec": {
   "display_name": "Python 3 (ipykernel)",
   "language": "python",
   "name": "python3"
  },
  "language_info": {
   "codemirror_mode": {
    "name": "ipython",
    "version": 3
   },
   "file_extension": ".py",
   "mimetype": "text/x-python",
   "name": "python",
   "nbconvert_exporter": "python",
   "pygments_lexer": "ipython3",
   "version": "3.9.12"
  }
 },
 "nbformat": 4,
 "nbformat_minor": 1
}
