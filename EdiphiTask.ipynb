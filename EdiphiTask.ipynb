{
 "cells": [
  {
   "cell_type": "markdown",
   "id": "a5dbc094",
   "metadata": {},
   "source": [
    "# EdiPhi Task\n",
    "\n",
    "This notebook processes an Excel file containing construction estimates. We will - \n",
    "- collect legend data\n",
    "- clean the data\n",
    "- convert it into a JSON structure that is ready for use\n",
    "\n",
    "JSON structure is predefined as -\n",
    "\n",
    "{\n",
    "    \"line_items\": [\n",
    "        {\n",
    "            \"sort1\": \"General Requirements\",\n",
    "            \"sort2\": \"General Trade Requirements\",\n",
    "            \"description\": \"Item 1\",\n",
    "            \"quantity\": 1,\n",
    "            \"uom\": \"each\",\n",
    "            \"labor\": 50,\n",
    "            \"material\": 100,\n",
    "            \"unit_cost\": 150,\n",
    "            \"total\": 150\n",
    "        },\n",
    "    ]\n",
    "}"
   ]
  },
  {
   "cell_type": "markdown",
   "id": "375f278b",
   "metadata": {},
   "source": [
    "## Assumptions\n",
    "Following are my assumptions while solving this assignment -\n",
    "\n",
    "- _sort1_ and _sort2_ keys in the final json will come from yellow and blue colored rows; these rows will be used to create lineItems for final JSON and work as an identifier\n",
    "- labor column does not contain any data, but is still present in final output to maintain structure\n",
    "- All the rows with no _total_ column value are discarded\n",
    "- Legend for red colored rows says 'ignore', but the data is considered for the sake of this exercise. As by discarding the red rows, the total cost does not add up for each sort1 and sort2 key. NOTE - there is a condition put in place, in _data cleaning_ section, for this situation. Please uncomment the condition to ignore red colored rows"
   ]
  },
  {
   "cell_type": "markdown",
   "id": "3f0cf602",
   "metadata": {},
   "source": [
    "## Step 0: Install Necessary Libraries\n",
    "\n",
    "To ensure that the script runs smoothly, we will begin by installing the required Python libraries."
   ]
  },
  {
   "cell_type": "code",
   "execution_count": 7,
   "id": "10b001fb",
   "metadata": {},
   "outputs": [
    {
     "name": "stdout",
     "output_type": "stream",
     "text": [
      "Requirement already satisfied: openpyxl in /Users/ravirajpurohit/opt/anaconda3/lib/python3.9/site-packages (3.0.9)\r\n",
      "Requirement already satisfied: pandas in /Users/ravirajpurohit/opt/anaconda3/lib/python3.9/site-packages (1.4.2)\r\n",
      "Requirement already satisfied: et-xmlfile in /Users/ravirajpurohit/opt/anaconda3/lib/python3.9/site-packages (from openpyxl) (1.1.0)\r\n",
      "Requirement already satisfied: python-dateutil>=2.8.1 in /Users/ravirajpurohit/opt/anaconda3/lib/python3.9/site-packages (from pandas) (2.8.2)\r\n",
      "Requirement already satisfied: pytz>=2020.1 in /Users/ravirajpurohit/opt/anaconda3/lib/python3.9/site-packages (from pandas) (2021.3)\r\n",
      "Requirement already satisfied: numpy>=1.18.5 in /Users/ravirajpurohit/opt/anaconda3/lib/python3.9/site-packages (from pandas) (1.22.4)\r\n",
      "Requirement already satisfied: six>=1.5 in /Users/ravirajpurohit/opt/anaconda3/lib/python3.9/site-packages (from python-dateutil>=2.8.1->pandas) (1.16.0)\r\n"
     ]
    }
   ],
   "source": [
    "### Install necessary libraries\n",
    "!pip install openpyxl pandas"
   ]
  },
  {
   "cell_type": "markdown",
   "id": "acec16d8",
   "metadata": {},
   "source": [
    "## Collect legends for each row\n",
    "\n",
    "Step 1: \n",
    "\n",
    "Import Necessary Libraries\n",
    "We will begin by importing the necessary libraries for handling Excel files and manipulating the data.\n",
    "_openpyxl_ - this library allows to read cell color; used for extracting legend for each row.\n",
    "\n",
    "- The legend information helps in identifying sort1, and sort2 keys in the final JSON format"
   ]
  },
  {
   "cell_type": "code",
   "execution_count": 8,
   "id": "eaa448dd",
   "metadata": {},
   "outputs": [],
   "source": [
    "## import libraries\n",
    "import openpyxl\n",
    "from openpyxl.styles import PatternFill"
   ]
  },
  {
   "cell_type": "code",
   "execution_count": 9,
   "id": "7c95450d",
   "metadata": {},
   "outputs": [],
   "source": [
    "# Load the workbook and select the active worksheet\n",
    "wb = openpyxl.load_workbook('sample_estimate.xlsx')\n",
    "ws = wb.active\n",
    "\n",
    "# Let's define the colors and corresponding text\n",
    "color_map = {\n",
    "    \"FFFFFF\": \"lineItem\",  # White\n",
    "    \"FFFFCC\": \"sort1\",     # Light Yellow\n",
    "    \"CCFFFF\": \"sort2\",     # Light Cyan\n",
    "    \"FFCCCC\": \"ignore\"     # Light Pink\n",
    "}\n",
    "\n",
    "# Initialize an empty list to store legend values\n",
    "legend = []\n",
    "\n",
    "# Iterate through the rows, checking the fill color of each cell in column A\n",
    "# Start from row 11 (min_row=11) since the first 10 rows are instructions\n",
    "for row in ws.iter_rows(min_row=11, max_col=1):  \n",
    "    cell = row[0]  # Column to get color and put text in\n",
    "    \n",
    "    fill = cell.fill\n",
    "    if fill and fill.fgColor and fill.fgColor.type == \"rgb\":\n",
    "        color_code = fill.fgColor.rgb[-6:]  # Extracting last 6 characters for hex color\n",
    "        if color_code in color_map:\n",
    "            legend.append(color_map[color_code])  # append legend information\n",
    "        else:\n",
    "            legend.append('lineItem')\n",
    "    else:\n",
    "        legend.append('lineItem')\n",
    "\n",
    "## close the workbook after processing\n",
    "wb.close()"
   ]
  },
  {
   "cell_type": "markdown",
   "id": "2c7538d4",
   "metadata": {},
   "source": [
    "## Build JSON structure\n",
    "Now that we have legend to identify sort1 and sort2 keys correctly, Let's build the required JSON file"
   ]
  },
  {
   "cell_type": "markdown",
   "id": "dcae4645",
   "metadata": {},
   "source": [
    "### Data Cleaning\n",
    "We will now clean the data by loading it into a pandas DataFrame and initializing variables to track sort1, sort2, and the list of line items."
   ]
  },
  {
   "cell_type": "code",
   "execution_count": 10,
   "id": "6a066a87",
   "metadata": {},
   "outputs": [],
   "source": [
    "## import libraries\n",
    "import json\n",
    "import pandas as pd"
   ]
  },
  {
   "cell_type": "code",
   "execution_count": 11,
   "id": "3442ed53",
   "metadata": {},
   "outputs": [],
   "source": [
    "# Load the Excel file\n",
    "excel_file_path = 'sample_estimate.xlsx'\n",
    "## skip first 9 rows; 10th row will give headers; data starts from row 11th\n",
    "## use columns that are necessary; B to H\n",
    "df = pd.read_excel(excel_file_path, skiprows=9, usecols=\"B:H\")"
   ]
  },
  {
   "cell_type": "markdown",
   "id": "6368c802",
   "metadata": {},
   "source": [
    "We will now iterate through each row in the DataFrame, skipping rows with a total of zero, and build a JSON structure based on the sort1, sort2, and line item details."
   ]
  },
  {
   "cell_type": "code",
   "execution_count": 12,
   "id": "57377fad",
   "metadata": {},
   "outputs": [],
   "source": [
    "# Initialize variables to track sort1 and sort2\n",
    "sort1 = ''\n",
    "sort2 = ''\n",
    "line_items = []\n",
    "\n",
    "for index, row in df.iterrows():\n",
    "#     print(index, legend[index], row['description'])\n",
    "    \n",
    "    first_column_value = legend[index]\n",
    "    description = row['description']\n",
    "    quantity = row['quantity']\n",
    "    uom = row['uom']\n",
    "    labor = row['labor']\n",
    "    material = row['material']\n",
    "    unit_cost = row['unit_cost']\n",
    "    total = row['total']\n",
    "    \n",
    "    if total == 0:\n",
    "        continue  # Skip rows where total is zero\n",
    "    if first_column_value == 'sort1':\n",
    "        sort1 = description\n",
    "    elif first_column_value == 'sort2':\n",
    "        sort2 = description\n",
    "## uncomment this condition to ignore red marked rows in the workbook\n",
    "#     elif first_column_value == 'ignore':\n",
    "#         continue  # Skip this row\n",
    "    else:\n",
    "        # If it's a line item, add the row to the line_items list\n",
    "        line_items.append({\n",
    "            \"sort1\": sort1,\n",
    "            \"sort2\": sort2,\n",
    "            \"description\": description,\n",
    "            \"quantity\": quantity,\n",
    "            \"uom\": uom,\n",
    "            \"labor\": labor,\n",
    "            \"material\": material,\n",
    "            \"unit_cost\": unit_cost,\n",
    "            \"total\": total\n",
    "        })"
   ]
  },
  {
   "cell_type": "markdown",
   "id": "79d633c8",
   "metadata": {},
   "source": [
    "### Output\n",
    "Finally, we construct the JSON structure containing all the processed line items and save it to a file."
   ]
  },
  {
   "cell_type": "code",
   "execution_count": 13,
   "id": "48ddb4f3",
   "metadata": {},
   "outputs": [
    {
     "name": "stdout",
     "output_type": "stream",
     "text": [
      "Output saved to output_result.json\n"
     ]
    }
   ],
   "source": [
    "# Construct the final JSON structure\n",
    "final_output = {\n",
    "    \"line_items\": line_items\n",
    "}\n",
    "\n",
    "# Output the final result\n",
    "output_json_path = 'output_result.json'\n",
    "with open(output_json_path, 'w') as json_file:\n",
    "    json.dump(final_output, json_file, indent=4)\n",
    "\n",
    "print(f\"Output saved to {output_json_path}\")"
   ]
  },
  {
   "cell_type": "code",
   "execution_count": null,
   "id": "bd697444",
   "metadata": {},
   "outputs": [],
   "source": []
  },
  {
   "cell_type": "markdown",
   "id": "561d995e",
   "metadata": {},
   "source": [
    "### Problems Encountered\n",
    "\n",
    "Following were the challenges for this assginment -\n",
    "\n",
    "#### get sort1, sort2 values:\n",
    "I had to make a choice between two methods -\n",
    "- Identify colors of each row and define sort1 and sort2 according to the legend. (Chosen)\n",
    "- Identify pattern for knowing if a row is sort1/sort2 row and not a lineItem. I created a logic for this as - if a row would have no value (merged cell) for quantity, uom, labor, material, and unit_cost, this cell is sort1/sort2. If there are 2 continous such rows, it is sort1 and sort2, otherwise it is sort2.\n",
    "\n",
    "I chose the first method as I believe it could scale well and is less prone to data errors.\n",
    "\n",
    "#### reading excel file:\n",
    "I tried parsing the excel file through openpyxl, but encountered an issue -\n",
    "- It parses formulas as is, and did not read the value. For eg - for quantity, it said \"=3*11\" instead of 33\n",
    "- While reading in value_only mode, it would make such values NaN\n",
    "- Solved it by not modifying the excel file and reading through pandas\n",
    "- Found other possible solutions but did not implement for the sake of time\n"
   ]
  },
  {
   "cell_type": "markdown",
   "id": "479ca543",
   "metadata": {},
   "source": [
    "## Alternatives\n",
    "\n",
    "While attempting this problem, I realized and explored a few more solutions - \n",
    "- Create another column for legend using VBA function in excel; two functions - for identifying color of cell, for mapping each row to the provided legend\n",
    "- Write add-on custom script for identifying color of cell in google sheets\n"
   ]
  },
  {
   "cell_type": "markdown",
   "id": "05d0abdc",
   "metadata": {},
   "source": [
    "## Conclusion\n",
    "This exercise demonstrates -\n",
    "- process of reading and processing an Excel file\n",
    "- applying logic to determine the appropriate categories based on cell colors\n",
    "- converting the data into a structured JSON format\n",
    "\n",
    "The final output can be used for further analysis or integration into other systems."
   ]
  },
  {
   "cell_type": "code",
   "execution_count": null,
   "id": "77f7f9ac",
   "metadata": {},
   "outputs": [],
   "source": []
  }
 ],
 "metadata": {
  "kernelspec": {
   "display_name": "Python 3 (ipykernel)",
   "language": "python",
   "name": "python3"
  },
  "language_info": {
   "codemirror_mode": {
    "name": "ipython",
    "version": 3
   },
   "file_extension": ".py",
   "mimetype": "text/x-python",
   "name": "python",
   "nbconvert_exporter": "python",
   "pygments_lexer": "ipython3",
   "version": "3.9.12"
  }
 },
 "nbformat": 4,
 "nbformat_minor": 5
}
